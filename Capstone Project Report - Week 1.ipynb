{
 "cells": [
  {
   "cell_type": "markdown",
   "metadata": {},
   "source": [
    "# Capstone Project - A Reasonable Location for a New Bookstore in Greater Melbourne (Week1)"
   ]
  },
  {
   "cell_type": "markdown",
   "metadata": {},
   "source": [
    "### by Fendy Gao\n",
    "#### date: 2020-Aug-15"
   ]
  },
  {
   "cell_type": "markdown",
   "metadata": {},
   "source": [
    "## Table of Contens"
   ]
  },
  {
   "cell_type": "markdown",
   "metadata": {},
   "source": [
    "* [1 Problem Description](#Problem)\n",
    "* [2 Data](#Data)\n",
    "* [3 Methodology](#Methodology)"
   ]
  },
  {
   "cell_type": "markdown",
   "metadata": {},
   "source": [
    "## 1 Problem Description<a name=\"Problem\"></a>"
   ]
  },
  {
   "cell_type": "markdown",
   "metadata": {},
   "source": [
    "Melbourne is the capital and most populous city of the Australian state of Victoria, and the second most populous city in Australia, where I am living. The area of Greater Melbourne area is about 9,993 km2, with a metropolitan area with 31 municipalities. It has a population of about 5 million."
   ]
  },
  {
   "cell_type": "markdown",
   "metadata": {},
   "source": [
    "One of my favorite shopping places is bookstore. Due to the impact of on-line sales and electronic publications, it gets more and more difficult to access a regular bookstore now. However, a bookstore is still a very nice place for adults to have some readings and for children to have some learnings. Hence, in this study, I focus myself on bookstores. "
   ]
  },
  {
   "cell_type": "markdown",
   "metadata": {},
   "source": [
    "To setup a bookstore would be determined by multiple factors, such as population, transportation, rental rate and etc. Also the existing numbers of bookstores in a certain region would be also imortant. I would like to focus on the factors in the population side. Hence, I'd like to collect data about the number of bookstores in each sub-region of Greater Melbourne Area, the bookstore number vs. population, the accessibility of bookstores to each sub-region, and etc. With all these data analyzed using machine learning technologies, I should be able to yield a recommendation for a location to setup a new bookstore. "
   ]
  },
  {
   "cell_type": "markdown",
   "metadata": {},
   "source": [
    "In summary, in this project, a study was performed to determine a reasonable location (or locations) to setup a new bookstore (bookstores) in the Greater Melbourne area. "
   ]
  },
  {
   "cell_type": "markdown",
   "metadata": {},
   "source": [
    "## 2 Data<a name=\"Data\"></a>"
   ]
  },
  {
   "cell_type": "markdown",
   "metadata": {},
   "source": [
    "### 2.1 Data of Greater Melbourne"
   ]
  },
  {
   "cell_type": "markdown",
   "metadata": {},
   "source": [
    "The local government areas (LGAs) of Melbourne are collected from the follow wiki link. I use the LGAs as the basic regions for the coming analysis. The wiki table provided the LGA areas and population in 2018, which is acceptable for the current study."
   ]
  },
  {
   "attachments": {},
   "cell_type": "markdown",
   "metadata": {},
   "source": [
    "<img src=\"2.1.fig.1.png\"/>"
   ]
  },
  {
   "cell_type": "markdown",
   "metadata": {},
   "source": [
    "[Local government areas of Victoria](https://en.wikipedia.org/wiki/Local_government_areas_of_Victoria)"
   ]
  },
  {
   "cell_type": "markdown",
   "metadata": {},
   "source": [
    "The wiki table of LGAs of Greater Melbourne did not provide any geographical coordinate information. Hence, the following Python package was used to extract geographical coordinate of each LGA. "
   ]
  },
  {
   "cell_type": "markdown",
   "metadata": {},
   "source": [
    "[Python Folim](https://github.com/python-visualization/folium)"
   ]
  },
  {
   "cell_type": "markdown",
   "metadata": {},
   "source": [
    "### 2.2 Data of Bookstores"
   ]
  },
  {
   "cell_type": "markdown",
   "metadata": {},
   "source": [
    "In order to find all bookstores in each LGA, Foursquare API was used to find all bookstores using a key word \"book\" and a reasonable large radius. Some bookstores might be missed from this search, but the current method should be acceptable."
   ]
  },
  {
   "cell_type": "markdown",
   "metadata": {},
   "source": [
    "[Foursquare API](https://developer.foursquare.com/)"
   ]
  },
  {
   "cell_type": "markdown",
   "metadata": {},
   "source": [
    "Then, the data was carefully processed. The first action was to remove those venues not in the category of bookstore. The second action was to remove those duplicated venues. The reason was that I used a large radius and certain venues might be found from different LGAs. The bookstore latitudes and longitudes were automatically retrieved via Foursquare API and saved into the dataframe."
   ]
  },
  {
   "attachments": {},
   "cell_type": "markdown",
   "metadata": {},
   "source": [
    "<img src=\"2.2.fig.1.png\"/>"
   ]
  },
  {
   "cell_type": "markdown",
   "metadata": {},
   "source": [
    "## 3 Methodology<a name=\"Methodology\"></a>"
   ]
  },
  {
   "cell_type": "markdown",
   "metadata": {},
   "source": [
    "The following assumption was used to judge where to build a new book store, that a bookstore should be setup where it is needed. The word \"needed\" is interpretted as that the number of bookstores (or the average number of bookstores per certain population) is less than the average value. "
   ]
  },
  {
   "cell_type": "markdown",
   "metadata": {},
   "source": [
    "In the study, the number of bookstore in each LGAs were studied, as well as the number of bookstores vs. population, the number of bookstore vs. area, and etc. Then based on the study, the results and recoomendations were presented. Serveral machine learning tools and data plots were used, including bar chart, linear regression, and k-means clustering."
   ]
  },
  {
   "cell_type": "code",
   "execution_count": null,
   "metadata": {},
   "outputs": [],
   "source": []
  }
 ],
 "metadata": {
  "kernelspec": {
   "display_name": "Python 3",
   "language": "python",
   "name": "python3"
  },
  "language_info": {
   "codemirror_mode": {
    "name": "ipython",
    "version": 3
   },
   "file_extension": ".py",
   "mimetype": "text/x-python",
   "name": "python",
   "nbconvert_exporter": "python",
   "pygments_lexer": "ipython3",
   "version": "3.8.3"
  }
 },
 "nbformat": 4,
 "nbformat_minor": 4
}
