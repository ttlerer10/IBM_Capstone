{
 "cells": [
  {
   "cell_type": "markdown",
   "metadata": {},
   "source": [
    "## Capstone Project - A Reasonable Location for a New Bookstore in Greater Melbourne (Week2)"
   ]
  },
  {
   "cell_type": "markdown",
   "metadata": {},
   "source": [
    "### by Fendy Gao\n",
    "#### date: 2020-Aug-15"
   ]
  },
  {
   "cell_type": "markdown",
   "metadata": {},
   "source": [
    "## Table of Contens"
   ]
  },
  {
   "cell_type": "markdown",
   "metadata": {},
   "source": [
    "* [1 Problem Description](#Problem)\n",
    "* [2 Data](#Data)\n",
    "    * [2.1 Data of Greater Melbourne](#Data_Melbourne)\n",
    "    * [2.2 Data of Bookstores](#Data_Bookstores)\n",
    "* [3 Methodology](#Methodology)\n",
    "    * [3.1 Process Data of Greater Melbourne](#Method_Melbourne)\n",
    "    * [3.2 Process Data of Bookstores](#Method_Bookstores)\n",
    "    * [3.3 Machine Learning](#Machine_Learning)\n",
    "* [4 Results](#Results)\n",
    "* [5 Discussion](#Discussion)"
   ]
  },
  {
   "cell_type": "markdown",
   "metadata": {},
   "source": [
    "## 1 Problem Description<a name=\"Problem\"></a>"
   ]
  },
  {
   "cell_type": "markdown",
   "metadata": {},
   "source": [
    "Melbourne is the capital and most populous city of the Australian state of Victoria, and the second most populous city in Australia, where I am living. The area of Greater Melbourne area is about 9,993 km2, with a metropolitan area with 31 municipalities. It has a population of about 5 million."
   ]
  },
  {
   "cell_type": "markdown",
   "metadata": {},
   "source": [
    "One of my favorite shopping places is bookstore. Due to the impact of on-line sales and electronic publications, it gets more and more difficult to access a regular bookstore now. However, a bookstore is still a very nice place for adults to have some readings and for children to have some learnings. Hence, in this study, I focus myself on bookstores. "
   ]
  },
  {
   "cell_type": "markdown",
   "metadata": {},
   "source": [
    "To setup a bookstore would be determined by multiple factors, such as population, transportation, rental rate and etc. Also the existing numbers of bookstores in a certain region would be also important. I would like to focus on the factors in the population side. Hence, I'd like to collect data about the number of bookstores in each sub-region of Greater Melbourne Area, the bookstore number vs. population, the accessibility of bookstores to each sub-region, and etc. With all these data analyzed using machine learning technologies, I should be able to yield a recommendation for a location to setup a new bookstore. "
   ]
  },
  {
   "cell_type": "markdown",
   "metadata": {},
   "source": [
    "In summary, in this project, a study was performed to determine a reasonable location (or locations) to setup a new bookstore (bookstores) in the Greater Melbourne area. "
   ]
  },
  {
   "cell_type": "markdown",
   "metadata": {},
   "source": [
    "## 2 Data<a name=\"Data\"></a>"
   ]
  },
  {
   "cell_type": "markdown",
   "metadata": {},
   "source": [
    "### 2.1 Data of Greater Melbourne<a name=\"Data_Melbourne\"></a>"
   ]
  },
  {
   "cell_type": "markdown",
   "metadata": {},
   "source": [
    "The local government areas (LGAs) of Melbourne are collected from the follow wiki link. I use the LGAs as the basic regions for the coming analysis. The wiki table provided the LGA areas and population in 2018, which is acceptable for the current study."
   ]
  },
  {
   "cell_type": "markdown",
   "metadata": {},
   "source": [
    "<img src=\"2.1.fig.1.png\"/>"
   ]
  },
  {
   "cell_type": "markdown",
   "metadata": {},
   "source": [
    "[Local government areas of Victoria](https://en.wikipedia.org/wiki/Local_government_areas_of_Victoria)"
   ]
  },
  {
   "cell_type": "markdown",
   "metadata": {},
   "source": [
    "The wiki table of LGAs of Greater Melbourne did not provide any geographical coordinate information. Hence, the following Python package was used to extract geographical coordinate of each LGA. "
   ]
  },
  {
   "cell_type": "markdown",
   "metadata": {},
   "source": [
    "[Python Folim](https://github.com/python-visualization/folium)"
   ]
  },
  {
   "cell_type": "markdown",
   "metadata": {},
   "source": [
    "### 2.2 Data of Bookstores<a name=\"Data_Bookstores\"></a>"
   ]
  },
  {
   "cell_type": "markdown",
   "metadata": {},
   "source": [
    "In order to find all bookstores in each LGA, Foursquare API was used to find all bookstores using a key word \"book\" and a reasonable large radius. Some bookstores might be missed from this search, but the current method should be acceptable."
   ]
  },
  {
   "cell_type": "markdown",
   "metadata": {},
   "source": [
    "[Foursquare API](https://developer.foursquare.com/)"
   ]
  },
  {
   "cell_type": "markdown",
   "metadata": {},
   "source": [
    "Then, the data was carefully processed. The first action was to remove those venues not in the category of bookstore. The second action was to remove those duplicated venues. The reason was that I used a large radius and certain venues might be found from different LGAs. The bookstore latitudes and longitudes were automatically retrieved via Foursquare API and saved into the dataframe."
   ]
  },
  {
   "cell_type": "markdown",
   "metadata": {},
   "source": [
    "<img src=\"2.2.fig.1.png\"/>"
   ]
  },
  {
   "cell_type": "markdown",
   "metadata": {},
   "source": [
    "## 3 Methodology<a name=\"Methodology\"></a>"
   ]
  },
  {
   "cell_type": "markdown",
   "metadata": {},
   "source": [
    "The following assumption was used to judge where to build a new book store, that a bookstore should be setup where it is needed. The word \"needed\" is interpretted as that the number of bookstores (or the average number of bookstores per certain population) is less than the average value. "
   ]
  },
  {
   "cell_type": "markdown",
   "metadata": {},
   "source": [
    "In the study, the number of bookstore in each LGAs were studied, as well as the number of bookstores vs. population, the number of bookstore vs. area, and etc. Then based on the study, the results and recoomendations were presented. Serveral machine learning tools and data plots were used, including bar chart, linear regression, and k-means clustering."
   ]
  },
  {
   "cell_type": "markdown",
   "metadata": {},
   "source": [
    "### 3.1 Process Data of Greater Melbourne<a name=\"Method_Melbourne\"></a>"
   ]
  },
  {
   "cell_type": "markdown",
   "metadata": {},
   "source": [
    "Python *BeautifulSoup* and *requests* module was used to obtain and process Wiki webpage. As shown in the following screeshot, the table includes more data than I needed. During extraction process, all the columns were extracted, but certain columns were not inserted into the final dataframe, such as \"Land Area in sq mi\" and \"Population 2013\"."
   ]
  },
  {
   "cell_type": "markdown",
   "metadata": {},
   "source": [
    "<img src=\"3.1.fig.1.png\"/>"
   ]
  },
  {
   "cell_type": "markdown",
   "metadata": {},
   "source": [
    "<img src=\"3.1.fig.2.png\"/>"
   ]
  },
  {
   "cell_type": "markdown",
   "metadata": {},
   "source": [
    "Since all contents from the table was retrieved as text, the data type of certain columns were converted to the right formats. And the the following dataframe was generated."
   ]
  },
  {
   "cell_type": "markdown",
   "metadata": {},
   "source": [
    "<img src=\"3.1.fig.3.png\"/>"
   ]
  },
  {
   "cell_type": "markdown",
   "metadata": {},
   "source": [
    "As the data in the data frame, the column of CouncilSeat listed all the names of Local Goverment Area (LGA), which were used daily. Hence, in the following step, the names of LGA, combined with the state of Victoria and the name of Australia, were used to obtain the latitudes and longitudes. The Python *geopy* module was used to perform the task. The data were then added into the original dataframe to generate a new dataframe with all the data we needed for the following analysis."
   ]
  },
  {
   "cell_type": "markdown",
   "metadata": {},
   "source": [
    "<img src=\"3.1.fig.4.png\"/>"
   ]
  },
  {
   "cell_type": "markdown",
   "metadata": {},
   "source": [
    "### 3.2 Process of Data of Bookstore<a name=\"Method_Bookstores\"></a>"
   ]
  },
  {
   "cell_type": "markdown",
   "metadata": {},
   "source": [
    "The Foursquare Credentials, Version and other required information were provided based on the query hyperlink with the following format. The version was set to $20180604$. The keyword defined in the search was \"book\". A maximum number of venus retirved was set to 100 with a search radius of 500000, which was pretty large."
   ]
  },
  {
   "cell_type": "markdown",
   "metadata": {},
   "source": [
    "> `https://api.foursquare.com/v2/venues/`**search**`?client_id=`**CLIENT_ID**`&client_secret=`**CLIENT_SECRET**`&ll=`**LATITUDE**`,`**LONGITUDE**`&v=`**VERSION**`&query=`**QUERY**`&radius=`**RADIUS**`&limit=`**LIMIT**"
   ]
  },
  {
   "cell_type": "markdown",
   "metadata": {},
   "source": [
    "<img src=\"3.2.fig.1.png\"/>"
   ]
  },
  {
   "cell_type": "markdown",
   "metadata": {},
   "source": [
    "Then, all LGAs of Greater Melbourne were searched and the retrived venues information were appended into a dataframe. The number of venus found in each LGA was less them the value of LIMIT we set above. Hence the value of LIMIT was an acceptable value. Totally, 1109 venus with 'book' in their names were added into the dataframe."
   ]
  },
  {
   "cell_type": "markdown",
   "metadata": {},
   "source": [
    "<img src=\"3.2.fig.2.png\"/>"
   ]
  },
  {
   "cell_type": "markdown",
   "metadata": {},
   "source": [
    "The dataframe was then refined by dropping useless column and removing duplicated venues. The bookstore dataframe had the following informaiton."
   ]
  },
  {
   "cell_type": "markdown",
   "metadata": {},
   "source": [
    "<img src=\"3.2.fig.3.png\"/>"
   ]
  },
  {
   "cell_type": "markdown",
   "metadata": {},
   "source": [
    "<img src=\"3.2.fig.4.png\"/>"
   ]
  },
  {
   "cell_type": "markdown",
   "metadata": {},
   "source": [
    "### 3.3 Machine Learning<a name=\"Machine_Learning\"></a>"
   ]
  },
  {
   "cell_type": "markdown",
   "metadata": {},
   "source": [
    "It is not easy to identify which local region(s) is(are) more suitable for a bookstore. Whether to setup a business in a certain location depends on many factors, such as population, location, tax, resident income level and etc. Hence, a few quantitive indicators were identified and calculated in the study. With these indicators, the possiblity of setting up a bookstore were then further studied.\n",
    "\n",
    "The first indicator was **scarcity**. Scarcity of bookstore was defined as how many bookstores are shared by the local population or by the local area. The second indicator was **accessibility**, which means how easy a local resident can reach a nearby bookstore. Accesibility was converted into the shortest distance of any bookstore to the local region center. \n",
    "\n",
    "Based on the defined area of interest and the local region center, the number of bookstores was couted within the circle with a certain radius. In this study, the value of radius was selected as 2000 m, which is about 3-5 minitue driving. The bookstore density was then calculated based on LGA population and land area. The distance from each bookstore to the LGA center (line distance) was calculated. The closest bookstore to each LGA center was then identified."
   ]
  },
  {
   "cell_type": "markdown",
   "metadata": {},
   "source": [
    "<img src=\"3.3.fig.1.png\"/>"
   ]
  },
  {
   "cell_type": "markdown",
   "metadata": {},
   "source": [
    "The bookstore density was then plotted based on population and land area of LGA. It was easy to identify the LGA with a low bookstore (even 0) density. The distance of the closest bookstore to each LGA was also plotted. The LGA had a poor **accessibility** to bookstore was also identified.  "
   ]
  },
  {
   "cell_type": "markdown",
   "metadata": {},
   "source": [
    "Scatter plot was use to identify whether there was a correlation between the distance of the closest bookstore with the population or bookstore density. Then, based on the scatter plot and the normalized distance of the closest bookstore and LGA population, k-Means clustering was performed using k value from 2 to 5"
   ]
  },
  {
   "cell_type": "markdown",
   "metadata": {},
   "source": [
    "## 4 Results<a name=\"Results\"></a>"
   ]
  },
  {
   "cell_type": "markdown",
   "metadata": {},
   "source": [
    "The local government area of Greater Melbourn were listed and the latitudes and longitudes were also retrieved via python geopy package. The LGA centers were also plot on the map with the radii of circles representing the population in the region."
   ]
  },
  {
   "cell_type": "markdown",
   "metadata": {},
   "source": [
    "<img src=\"4.fig.1.png\"/>"
   ]
  },
  {
   "cell_type": "markdown",
   "metadata": {},
   "source": [
    "<img src=\"4.fig.2.png\"/>"
   ]
  },
  {
   "cell_type": "markdown",
   "metadata": {},
   "source": [
    "All bookstores searched via Foursqure were also plotted on the map. A few bookstores not in the Greater Melbourne were also found and added in to the dataframe. Those bookstores did not affected the following study, so they were not further removed out from the dataframe."
   ]
  },
  {
   "cell_type": "markdown",
   "metadata": {},
   "source": [
    "<img src=\"4.fig.3.png\"/>"
   ]
  },
  {
   "cell_type": "markdown",
   "metadata": {},
   "source": [
    "The bar char plots show clearly that in certain local regions the bookstore density were 0 and the closest bookstore were more than 8000 m away. "
   ]
  },
  {
   "cell_type": "markdown",
   "metadata": {},
   "source": [
    "<img src=\"4.fig.4.png\"/>"
   ]
  },
  {
   "cell_type": "markdown",
   "metadata": {},
   "source": [
    "<img src=\"4.fig.5.png\"/>"
   ]
  },
  {
   "cell_type": "markdown",
   "metadata": {},
   "source": [
    "The scatter plots did not show any coorelations between the variables selected, neither did the linear regression. For both scatter plots, the linear regression results had an extremly low $r^2$ values, 0.0002 and 0.05, respectively."
   ]
  },
  {
   "cell_type": "markdown",
   "metadata": {},
   "source": [
    "<img src=\"4.fig.6.png\"/>"
   ]
  },
  {
   "cell_type": "markdown",
   "metadata": {},
   "source": [
    "<img src=\"4.fig.7.png\"/>"
   ]
  },
  {
   "cell_type": "markdown",
   "metadata": {},
   "source": [
    "The k-Means clustering analyses show very interesting results. The numbers of clusering ranged from 2 to 5. No matter which k values selected in this range, the few local regions, such as **Rosebud**, **Melton**, **Officer**, and **Altona**, were separated from other local regions. The reason might be that the combination of the distance and population."
   ]
  },
  {
   "cell_type": "markdown",
   "metadata": {},
   "source": [
    "<img src=\"4.fig.8.png\"/>"
   ]
  },
  {
   "cell_type": "markdown",
   "metadata": {},
   "source": [
    "<img src=\"4.fig.9.png\"/>"
   ]
  },
  {
   "cell_type": "markdown",
   "metadata": {},
   "source": [
    "<img src=\"4.fig.10.png\"/>"
   ]
  },
  {
   "cell_type": "markdown",
   "metadata": {},
   "source": [
    "<img src=\"4.fig.11.png\"/>"
   ]
  },
  {
   "cell_type": "markdown",
   "metadata": {},
   "source": [
    "## Discussion <a name=\"Discussion\"></a>"
   ]
  },
  {
   "cell_type": "markdown",
   "metadata": {},
   "source": [
    "Based on the previous study, the local government are of **Rosebud**, **Melton**, **Officer**, and **Altona**, could be selected as the possible locations for a new bookstore. Whether to setup a new one, might be considered with other factors, which were not studied here."
   ]
  },
  {
   "attachments": {},
   "cell_type": "markdown",
   "metadata": {},
   "source": [
    "The method used in the current study was relatively simple. There might be several ways to refine the study. For example, in the current study, only the center of the LGA was considered. If the study was finer, a few more locations in an LGA should be considered. Also, the population was not segmented, while it should be done for a finer study."
   ]
  },
  {
   "cell_type": "markdown",
   "metadata": {},
   "source": [
    "Regarding the tools and packages used in the current study, Foursquare and machine learning packages were extremely powerful and should be studied deeply for a finer future study."
   ]
  },
  {
   "cell_type": "code",
   "execution_count": null,
   "metadata": {},
   "outputs": [],
   "source": []
  }
 ],
 "metadata": {
  "kernelspec": {
   "display_name": "Python 3",
   "language": "python",
   "name": "python3"
  },
  "language_info": {
   "codemirror_mode": {
    "name": "ipython",
    "version": 3
   },
   "file_extension": ".py",
   "mimetype": "text/x-python",
   "name": "python",
   "nbconvert_exporter": "python",
   "pygments_lexer": "ipython3",
   "version": "3.8.3"
  }
 },
 "nbformat": 4,
 "nbformat_minor": 4
}
